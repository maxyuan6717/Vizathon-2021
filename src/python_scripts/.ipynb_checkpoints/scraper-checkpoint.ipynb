{
 "cells": [
  {
   "cell_type": "code",
   "execution_count": 18,
   "id": "26a0e148",
   "metadata": {},
   "outputs": [
    {
     "name": "stdout",
     "output_type": "stream",
     "text": [
      "Collecting selenium\n",
      "  Downloading selenium-3.141.0-py2.py3-none-any.whl (904 kB)\n",
      "\u001b[K     |████████████████████████████████| 904 kB 983 kB/s eta 0:00:01\n",
      "\u001b[?25hRequirement already satisfied: urllib3 in /opt/anaconda3/lib/python3.8/site-packages (from selenium) (1.26.4)\n",
      "Installing collected packages: selenium\n",
      "Successfully installed selenium-3.141.0\n"
     ]
    }
   ],
   "source": [
    "!pip3 install selenium"
   ]
  },
  {
   "cell_type": "code",
   "execution_count": 79,
   "id": "7da2a644",
   "metadata": {},
   "outputs": [],
   "source": [
    "import requests\n",
    "from bs4 import BeautifulSoup\n",
    "from selenium import webdriver\n",
    "import re\n",
    "import time"
   ]
  },
  {
   "cell_type": "code",
   "execution_count": 44,
   "id": "2cd8f9a3",
   "metadata": {},
   "outputs": [],
   "source": [
    "DRIVER_PATH = '../../chromedriver'\n",
    "driver = webdriver.Chrome(executable_path=DRIVER_PATH)\n",
    "driver.get('https://google.com')"
   ]
  },
  {
   "cell_type": "code",
   "execution_count": 9,
   "id": "ad883fc9",
   "metadata": {},
   "outputs": [],
   "source": [
    "url = 'https://www.gofundme.com/s?q=stop+asian+hate&pg={pg}'\n",
    "base_url = url.format(pg=1)"
   ]
  },
  {
   "cell_type": "code",
   "execution_count": 28,
   "id": "7519de3a",
   "metadata": {},
   "outputs": [],
   "source": [
    "driver.get(base_url)\n",
    "nav = driver.find_elements_by_class_name('p-search-results-page-button')\n",
    "num_pages = len(nav)"
   ]
  },
  {
   "cell_type": "code",
   "execution_count": 29,
   "id": "018d9746",
   "metadata": {},
   "outputs": [
    {
     "data": {
      "text/plain": [
       "56"
      ]
     },
     "execution_count": 29,
     "metadata": {},
     "output_type": "execute_result"
    }
   ],
   "source": [
    "num_pages"
   ]
  },
  {
   "cell_type": "code",
   "execution_count": 64,
   "id": "ef8384be",
   "metadata": {},
   "outputs": [
    {
     "name": "stdout",
     "output_type": "stream",
     "text": [
      "SCRAPING PAGE 1\n",
      "SCRAPING PAGE 2\n",
      "SCRAPING PAGE 3\n",
      "SCRAPING PAGE 4\n",
      "SCRAPING PAGE 5\n",
      "SCRAPING PAGE 6\n",
      "SCRAPING PAGE 7\n",
      "SCRAPING PAGE 8\n",
      "SCRAPING PAGE 9\n",
      "SCRAPING PAGE 10\n",
      "SCRAPING PAGE 11\n",
      "SCRAPING PAGE 12\n",
      "SCRAPING PAGE 13\n",
      "SCRAPING PAGE 14\n",
      "SCRAPING PAGE 15\n",
      "SCRAPING PAGE 16\n",
      "SCRAPING PAGE 17\n",
      "ERROR with fundraiser: https://www.gofundme.com/f/original-character-and-charity-fund?qid=a3d773dee1f0cbb6eef588a4938145ff\n",
      "SCRAPING PAGE 18\n",
      "SCRAPING PAGE 19\n",
      "SCRAPING PAGE 20\n",
      "SCRAPING PAGE 21\n",
      "SCRAPING PAGE 22\n",
      "SCRAPING PAGE 23\n",
      "SCRAPING PAGE 24\n",
      "SCRAPING PAGE 25\n",
      "SCRAPING PAGE 26\n",
      "SCRAPING PAGE 27\n",
      "SCRAPING PAGE 28\n",
      "SCRAPING PAGE 29\n",
      "SCRAPING PAGE 30\n",
      "SCRAPING PAGE 31\n",
      "SCRAPING PAGE 32\n",
      "SCRAPING PAGE 33\n",
      "SCRAPING PAGE 34\n",
      "SCRAPING PAGE 35\n",
      "SCRAPING PAGE 36\n",
      "SCRAPING PAGE 37\n",
      "SCRAPING PAGE 38\n",
      "SCRAPING PAGE 39\n",
      "SCRAPING PAGE 40\n",
      "SCRAPING PAGE 41\n",
      "SCRAPING PAGE 42\n",
      "SCRAPING PAGE 43\n",
      "SCRAPING PAGE 44\n",
      "ERROR with fundraiser: https://www.gofundme.com/f/help-in-the-midst-of-tragedy?qid=9eee01d447dbf3203958a47ddd247c47\n",
      "ERROR with fundraiser: https://www.gofundme.com/f/rent-bills-transportation?qid=9eee01d447dbf3203958a47ddd247c47\n",
      "SCRAPING PAGE 45\n",
      "ERROR with fundraiser: https://www.gofundme.com/f/whupug-masons-top-surgery?qid=41d5a9bf0d4e1531534563a626c9063d\n",
      "SCRAPING PAGE 46\n",
      "SCRAPING PAGE 47\n",
      "ERROR with fundraiser: https://www.gofundme.com/f/my-mom-was-my-everything?qid=6363d6444c8a4b06196239d1341b59cc\n",
      "SCRAPING PAGE 48\n",
      "SCRAPING PAGE 49\n",
      "ERROR with fundraiser: https://www.gofundme.com/f/be-seen-be-heard?qid=3768bb76a1a3ca0b9ab1d47c7b27907f\n",
      "SCRAPING PAGE 50\n",
      "SCRAPING PAGE 51\n",
      "SCRAPING PAGE 52\n",
      "SCRAPING PAGE 53\n",
      "SCRAPING PAGE 54\n",
      "SCRAPING PAGE 55\n",
      "SCRAPING PAGE 56\n"
     ]
    }
   ],
   "source": [
    "fundraisers = []\n",
    "for pg_no in range(1,num_pages+1):\n",
    "    print('SCRAPING PAGE', pg_no)\n",
    "    page_url = url.format(pg=pg_no)\n",
    "    driver.get(page_url)\n",
    "    funds = driver.find_elements_by_class_name('m-search-result-card')\n",
    "    fund_urls = []\n",
    "    for fund in funds:\n",
    "        link = fund.find_element_by_tag_name('a')\n",
    "        fund_urls.append(link.get_attribute(\"href\"))\n",
    "    for fund_url in fund_urls:\n",
    "        try:\n",
    "            driver.get(fund_url)\n",
    "            money = driver.find_element_by_class_name('m-progress-meter-heading').text\n",
    "            money_elements = money.split(' ')\n",
    "\n",
    "            cur = 0\n",
    "            goal = 0\n",
    "            if ('raised' in money_elements):\n",
    "                cur = int(re.sub(\"[^0-9]\", \"\", money_elements[0]))\n",
    "            else:\n",
    "                goal = int(re.sub(\"[^0-9]\", \"\", money_elements[0]))\n",
    "            if ('of' in money_elements):\n",
    "                goal = int(re.sub(\"[^0-9]\", \"\", money_elements[money_elements.index('of')+1]))\n",
    "            if (goal == 0):\n",
    "                goal = cur\n",
    "        \n",
    "            created_date = driver.find_element_by_class_name('a-created-date').text.split('Created')[1][1:]\n",
    "    #         print(cur, '/', goal, '-', created_date)\n",
    "            fundraisers.append({\n",
    "                'cur': cur,\n",
    "                'goal': goal,\n",
    "                'created': created_date\n",
    "            })\n",
    "        except:\n",
    "            print('ERROR with fundraiser:', fund_url)"
   ]
  },
  {
   "cell_type": "code",
   "execution_count": 60,
   "id": "ed6aed3c",
   "metadata": {},
   "outputs": [
    {
     "data": {
      "text/plain": [
       "[{'cur': 93152, 'goal': 400000, 'created': 'July 7, 2021'},\n",
       " {'cur': 81800, 'goal': 100000, 'created': 'May 7, 2021'},\n",
       " {'cur': 1960, 'goal': 5000, 'created': 'July 14, 2021'},\n",
       " {'cur': 1386, 'goal': 2400, 'created': 'May 13, 2021'},\n",
       " {'cur': 4615, 'goal': 25000, 'created': 'May 5, 2021'},\n",
       " {'cur': 18536, 'goal': 20000, 'created': 'June 7, 2021'},\n",
       " {'cur': 255, 'goal': 1000, 'created': 'July 15, 2021'},\n",
       " {'cur': 11230, 'goal': 50000, 'created': 'June 1, 2021'},\n",
       " {'cur': 150, 'goal': 3000, 'created': 'July 8, 2021'},\n",
       " {'cur': 220, 'goal': 200, 'created': 'May 20, 2021'},\n",
       " {'cur': 170, 'goal': 500000, 'created': 'May 31, 2021'},\n",
       " {'cur': 48, 'goal': 25000, 'created': 'May 14, 2021'},\n",
       " {'cur': 3777, 'goal': 4000, 'created': 'May 20, 2021'},\n",
       " {'cur': 85, 'goal': 300, 'created': 'July 14, 2021'},\n",
       " {'cur': 6739, 'goal': 5000, 'created': 'June 13, 2021'},\n",
       " {'cur': 225, 'goal': 50000, 'created': 'July 7, 2021'},\n",
       " {'cur': 50, 'goal': 50000, 'created': 'May 5, 2021'},\n",
       " {'cur': 1405, 'goal': 2200, 'created': 'June 8, 2021'}]"
      ]
     },
     "execution_count": 60,
     "metadata": {},
     "output_type": "execute_result"
    }
   ],
   "source": [
    "fundraisers"
   ]
  },
  {
   "cell_type": "code",
   "execution_count": 67,
   "id": "546b18be",
   "metadata": {},
   "outputs": [],
   "source": [
    "import json\n",
    "with open('../jsons/fundraisers.json', 'w') as fout:\n",
    "    json.dump(fundraisers , fout, indent=4)"
   ]
  },
  {
   "cell_type": "code",
   "execution_count": 115,
   "id": "19e44534",
   "metadata": {},
   "outputs": [],
   "source": [
    "DRIVER_PATH = '../../chromedriver'\n",
    "driver = webdriver.Chrome(executable_path=DRIVER_PATH)"
   ]
  },
  {
   "cell_type": "code",
   "execution_count": 75,
   "id": "5e93a9a1",
   "metadata": {},
   "outputs": [],
   "source": [
    "urls = {\n",
    "    'Justice': 'https://www.gofundme.com/c/act/justice-aapi-community',\n",
    "    'Safety': 'https://www.gofundme.com/c/act/safety-aapi-community',\n",
    "    'Uplift': 'https://www.gofundme.com/c/act/uplift-aapi-community',\n",
    "    'Support': 'https://www.gofundme.com/c/act/support-aapi-neighborhoods',\n",
    "    'Atlanta': 'https://www.gofundme.com/c/act/atlanta-area-spa-shootings-fundraisers'\n",
    "}\n",
    "sections = urls.keys()"
   ]
  },
  {
   "cell_type": "code",
   "execution_count": null,
   "id": "f071006e",
   "metadata": {},
   "outputs": [
    {
     "name": "stdout",
     "output_type": "stream",
     "text": [
      "SECTION: Justice\n",
      "all funds loaded\n",
      "# of funds: 43\n",
      "{'url': 'https://www.gofundme.com/f/2b8zh292uo', 'cur': 997494, 'goal': 50000}\n",
      "{'url': 'https://www.gofundme.com/f/help-yong-zheng-family-to-get-thru-this', 'cur': 353800, 'goal': 50000}\n",
      "{'url': 'https://www.gofundme.com/f/help-and-support-we-are-with-you-vilma-kari', 'cur': 270458, 'goal': 20000}\n",
      "{'url': 'https://www.gofundme.com/f/stopasianhatehalloffame', 'cur': 96441, 'goal': 250000}\n",
      "{'url': 'https://www.gofundme.com/f/stop-the-hate-crime-chak-keung-chan-badly-beaten', 'cur': 94842, 'goal': 100000}\n",
      "{'url': 'https://www.gofundme.com/f/assist-with-marcs-medical-expenses', 'cur': 93232, 'goal': 95000}\n",
      "{'url': 'https://www.gofundme.com/f/84yearold-killed-in-san-francisco', 'cur': 91147, 'goal': 10000}\n",
      "{'url': 'https://www.gofundme.com/f/GuanShuai', 'cur': 78055, 'goal': 250000}\n",
      "{'url': 'https://www.gofundme.com/f/help-noel-quintana', 'cur': 53100, 'goal': 100000}\n",
      "{'url': 'https://www.gofundme.com/f/support-inglemoor-hs-teacher-noriko-nasu', 'cur': 47483, 'goal': 35000}\n",
      "{'url': 'https://www.gofundme.com/f/the-nguyen-fundraiser', 'cur': 42131, 'goal': 25000}\n",
      "{'url': 'https://www.gofundme.com/f/sf-api-victims-and-survivors-assistance-fund', 'cur': 26708, 'goal': 50000}\n",
      "{'url': 'https://www.gofundme.com/f/help-oriental-pantry-after-break-in-and-burglary', 'cur': 17816, 'goal': 2000}\n",
      "{'url': 'https://www.gofundme.com/f/yume-gelato-justice', 'cur': 14135, 'goal': 15000}\n",
      "{'url': 'https://www.gofundme.com/f/help-jaydens-medical-bills-from-hate-crime', 'cur': 12894, 'goal': 12000}\n",
      "{'url': 'https://www.gofundme.com/f/help-zheng-yong-the-good-samaritan', 'cur': 10669, 'goal': 50000}\n",
      "{'url': 'https://www.gofundme.com/f/kft-columbia-for-stop-aapi-hate', 'cur': 9489, 'goal': 8888}\n",
      "{'url': 'https://www.gofundme.com/f/11yearold-asian-girl-held-in-sf-home-invasion', 'cur': 8655, 'goal': 10000}\n",
      "{'url': 'https://www.gofundme.com/f/help-my-family-after-home-burglary', 'cur': 6924, 'goal': 5000}\n",
      "{'url': 'https://www.gofundme.com/f/burglary-of-pineapple-king-bakery', 'cur': 6680, 'goal': 5000}\n",
      "{'url': 'https://www.gofundme.com/f/help-move-yong-choi-to-a-safe-home-free-from-hate', 'cur': 4215, 'goal': 10000}\n",
      "{'url': 'https://www.gofundme.com/f/utopia-restaurant-and-lounge-vandalism-damages', 'cur': 3535, 'goal': 3000}\n",
      "{'url': 'https://www.gofundme.com/f/help-yao-pan-ma', 'cur': 565117, 'goal': 50000}\n",
      "{'url': 'https://www.gofundme.com/f/eqn24y-help-nafiah-acid-attack-survivor-get-justice', 'cur': 532525, 'goal': 1}\n",
      "{'url': 'https://www.gofundme.com/f/in-loving-memory-of-shane-nguyen', 'cur': 296516, 'goal': 20000}\n",
      "{'url': 'https://www.gofundme.com/f/exvd5-help-my-grandma-with-medical-bills', 'cur': 134704, 'goal': 50000}\n",
      "{'url': 'https://www.gofundme.com/f/in-the-loving-memory-of-john-huynh', 'cur': 84722, 'goal': 15000}\n",
      "{'url': 'https://www.gofundme.com/f/qd4fh-justice-for-ke-chieh-meng', 'cur': 56790, 'goal': 50000}\n",
      "{'url': 'https://www.gofundme.com/f/enough-stop-hate-crime-on-asian-small-business', 'cur': 48393, 'goal': 5000}\n",
      "{'url': 'https://www.gofundme.com/f/chi-ling-lee-fundraiser', 'cur': 48251, 'goal': 25000}\n",
      "{'url': 'https://www.gofundme.com/f/mr-chheng-car-engulfed-in-flames', 'cur': 35359, 'goal': 30000}\n",
      "{'url': 'https://www.gofundme.com/f/stop-aapi-hate-liem-tran-assaulted-robbed', 'cur': 34460, 'goal': 15000}\n",
      "{'url': 'https://www.gofundme.com/f/help-paul-raise-money-to-see-a-doctor', 'cur': 32164, 'goal': 3000}\n",
      "{'url': 'https://www.gofundme.com/f/help-my-dad-recover-from-sustained-injuries', 'cur': 20820, 'goal': 5000}\n",
      "{'url': 'https://www.gofundme.com/f/nhn28-help-family-business', 'cur': 19660, 'goal': 70000}\n",
      "{'url': 'https://www.gofundme.com/f/cover-jennas-medical-bills-and-fund-self-defense', 'cur': 12710, 'goal': 10000}\n",
      "{'url': 'https://www.gofundme.com/f/help-the-gourmet-house-repair-their-window', 'cur': 8474, 'goal': 1250}\n",
      "{'url': 'https://www.gofundme.com/f/help-lincoln-district-businesses-with-repairs', 'cur': 6780, 'goal': 3000}\n",
      "{'url': 'https://www.gofundme.com/f/utah-food-truck-vandalized-with-hate-messages', 'cur': 4080, 'goal': 2000}\n",
      "{'url': 'https://www.gofundme.com/f/armed-robbery-carjacking-and-kidnapping-of-asian', 'cur': 4007, 'goal': 5000}\n",
      "{'url': 'https://www.gofundme.com/f/help-for-monterey-pizza-asian-zap-sf', 'cur': 3800, 'goal': 20000}\n",
      "{'url': 'https://www.gofundme.com/f/help-dim-sum-corner-repair-two-smashed-windows', 'cur': 3491, 'goal': 7500}\n",
      "{'url': 'https://www.gofundme.com/f/rebuildourfamilyrestaurant', 'cur': 2018, 'goal': 5000}\n",
      "SECTION: Safety\n"
     ]
    }
   ],
   "source": [
    "fundraisers = []\n",
    "for section in sections:\n",
    "    print('SECTION:', section)\n",
    "    driver.get(urls[section])\n",
    "    while(True):\n",
    "        time.sleep(2)\n",
    "        more_btn = driver.find_elements_by_class_name('js-load-more-results')\n",
    "        if (len(more_btn) > 0):\n",
    "            try:\n",
    "                more_btn[0].click()\n",
    "            except:\n",
    "                print('all funds loaded')\n",
    "                break\n",
    "        else:\n",
    "            break\n",
    "    funds = driver.find_elements_by_class_name('react-campaign-tile')\n",
    "    print('# of funds:', len(funds))\n",
    "    fund_urls = []\n",
    "    for fund in funds:\n",
    "        fund_url = fund.find_element_by_tag_name('a')\n",
    "        money = fund.find_elements_by_class_name('show-for-medium')[-1].text\n",
    "        money_elements = money.split(' ')\n",
    "        cur = 0\n",
    "        goal = 0\n",
    "        try:\n",
    "            cur = int(re.sub(\"[^0-9]\", \"\", money_elements[0]))\n",
    "            goal = int(re.sub(\"[^0-9]\", \"\", money_elements[money_elements.index('of')+1]))\n",
    "        \n",
    "        except:\n",
    "            print('error with:', fund_url)\n",
    "        fund_urls.append({\n",
    "            'url': fund_url.get_attribute(\"href\"),\n",
    "            'cur': cur,\n",
    "            'goal': goal,\n",
    "        })\n",
    "    for fund_url in fund_urls:\n",
    "        try:\n",
    "            driver.get(fund_url['url'])\n",
    "\n",
    "            created_date = driver.find_element_by_class_name('a-created-date').text.split('Created')[1][1:]\n",
    "    \n",
    "            donors = 0\n",
    "            try:\n",
    "                driver.get(driver.current_url + '/donations')\n",
    "                header = driver.find_element_by_class_name('o-modal-donations-header-title')\n",
    "                text = header.find_element_by_tag_name('h2').text\n",
    "                donors = text[text.find(\"(\")+1:text.find(\")\")]\n",
    "            except:\n",
    "                print('no donors:', fund_url['url'])\n",
    "    \n",
    "            fundraisers.append({\n",
    "                'cur': fund_url['cur'],\n",
    "                'goal': fund_url['goal'],\n",
    "                'donors': donors,\n",
    "                'created': created_date,\n",
    "                'section': section,\n",
    "                'url': fund_url['url']\n",
    "            })\n",
    "        except:\n",
    "            print('ERROR with fundraiser:', fund_url['url'])"
   ]
  },
  {
   "cell_type": "code",
   "execution_count": 92,
   "id": "dbd70d0c",
   "metadata": {},
   "outputs": [],
   "source": [
    "with open('../jsons/official_fundraisers_donors.json', 'w') as fout:\n",
    "    json.dump(fundraisers , fout, indent=4)"
   ]
  },
  {
   "cell_type": "code",
   "execution_count": 93,
   "id": "9f83a88b",
   "metadata": {},
   "outputs": [
    {
     "data": {
      "text/plain": [
       "213"
      ]
     },
     "execution_count": 93,
     "metadata": {},
     "output_type": "execute_result"
    }
   ],
   "source": []
  },
  {
   "cell_type": "code",
   "execution_count": null,
   "id": "0e04e479",
   "metadata": {},
   "outputs": [],
   "source": []
  }
 ],
 "metadata": {
  "kernelspec": {
   "display_name": "Python 3",
   "language": "python",
   "name": "python3"
  },
  "language_info": {
   "codemirror_mode": {
    "name": "ipython",
    "version": 3
   },
   "file_extension": ".py",
   "mimetype": "text/x-python",
   "name": "python",
   "nbconvert_exporter": "python",
   "pygments_lexer": "ipython3",
   "version": "3.8.8"
  }
 },
 "nbformat": 4,
 "nbformat_minor": 5
}
