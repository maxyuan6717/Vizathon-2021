{
 "cells": [
  {
   "cell_type": "code",
   "execution_count": 45,
   "id": "6a120f96",
   "metadata": {},
   "outputs": [],
   "source": [
    "import pandas as pd\n",
    "import numpy as np"
   ]
  },
  {
   "cell_type": "code",
   "execution_count": 2,
   "id": "fe195afa",
   "metadata": {},
   "outputs": [],
   "source": [
    "nodes_df = pd.read_csv('../covid-hate-social-network/nodes.csv')\n",
    "nodes_df.columns = ['User Id']"
   ]
  },
  {
   "cell_type": "code",
   "execution_count": 8,
   "id": "59378a2d",
   "metadata": {},
   "outputs": [],
   "source": [
    "edges_df = pd.read_csv('../covid-hate-social-network/edges.csv')"
   ]
  },
  {
   "cell_type": "code",
   "execution_count": 11,
   "id": "b983956b",
   "metadata": {},
   "outputs": [
    {
     "name": "stdout",
     "output_type": "stream",
     "text": [
      "Nodes: (489010, 1)\n",
      "Edges: (717087317, 2)\n"
     ]
    }
   ],
   "source": [
    "print('Nodes:', nodes_df.shape)\n",
    "print('Edges:', edges_df.shape)"
   ]
  },
  {
   "cell_type": "code",
   "execution_count": 13,
   "id": "d78b54d7",
   "metadata": {},
   "outputs": [],
   "source": [
    "N_nodes = 1000\n",
    "seed = 1\n",
    "sample_nodes_df = nodes_df.sample(n=N_nodes, random_state=seed)"
   ]
  },
  {
   "cell_type": "code",
   "execution_count": 15,
   "id": "1dd45b17",
   "metadata": {},
   "outputs": [],
   "source": [
    "N_edges = 1000000\n",
    "sample_edges_df = edges_df.sample(n=N_edges, random_state=seed)"
   ]
  },
  {
   "cell_type": "code",
   "execution_count": 26,
   "id": "2b4c72c3",
   "metadata": {},
   "outputs": [],
   "source": [
    "bool_df = sample_edges_df.isin(sample_nodes_df['User Id'])"
   ]
  },
  {
   "cell_type": "code",
   "execution_count": 27,
   "id": "a6bd8489",
   "metadata": {},
   "outputs": [],
   "source": [
    "all_bool_df = edges_df.isin(sample_nodes_df['User Id'])"
   ]
  },
  {
   "cell_type": "code",
   "execution_count": 38,
   "id": "c612b1ef",
   "metadata": {},
   "outputs": [],
   "source": [
    "small_edges_df = sample_edges_df.sample(n=1000, random_state=seed)"
   ]
  },
  {
   "cell_type": "code",
   "execution_count": 41,
   "id": "52502715",
   "metadata": {},
   "outputs": [],
   "source": [
    "sources = small_edges_df.Source.unique()\n",
    "targets = small_edges_df.Target.unique()"
   ]
  },
  {
   "cell_type": "code",
   "execution_count": 44,
   "id": "cb7fbdc7",
   "metadata": {},
   "outputs": [
    {
     "data": {
      "text/plain": [
       "(997,)"
      ]
     },
     "execution_count": 44,
     "metadata": {},
     "output_type": "execute_result"
    }
   ],
   "source": [
    "targets.shape"
   ]
  },
  {
   "cell_type": "code",
   "execution_count": 61,
   "id": "d2502563",
   "metadata": {},
   "outputs": [],
   "source": [
    "combined = np.concatenate((sources, targets))"
   ]
  },
  {
   "cell_type": "code",
   "execution_count": 62,
   "id": "81fca52a",
   "metadata": {},
   "outputs": [],
   "source": [
    "combined = pd.DataFrame(combined)"
   ]
  },
  {
   "cell_type": "code",
   "execution_count": 67,
   "id": "d35f773a",
   "metadata": {},
   "outputs": [
    {
     "data": {
      "text/plain": [
       "(1995,)"
      ]
     },
     "execution_count": 67,
     "metadata": {},
     "output_type": "execute_result"
    }
   ],
   "source": [
    "combined[0].unique().shape"
   ]
  },
  {
   "cell_type": "code",
   "execution_count": 68,
   "id": "1bd09312",
   "metadata": {},
   "outputs": [],
   "source": [
    "embedding = pd.read_csv('../hate_counter_embeddings.csv')"
   ]
  },
  {
   "cell_type": "code",
   "execution_count": 69,
   "id": "7e05e27d",
   "metadata": {},
   "outputs": [
    {
     "data": {
      "text/html": [
       "<div>\n",
       "<style scoped>\n",
       "    .dataframe tbody tr th:only-of-type {\n",
       "        vertical-align: middle;\n",
       "    }\n",
       "\n",
       "    .dataframe tbody tr th {\n",
       "        vertical-align: top;\n",
       "    }\n",
       "\n",
       "    .dataframe thead th {\n",
       "        text-align: right;\n",
       "    }\n",
       "</style>\n",
       "<table border=\"1\" class=\"dataframe\">\n",
       "  <thead>\n",
       "    <tr style=\"text-align: right;\">\n",
       "      <th></th>\n",
       "      <th>1244776561489911812</th>\n",
       "      <th>0.4492857</th>\n",
       "      <th>-0.08069251</th>\n",
       "      <th>0.4238264</th>\n",
       "      <th>0.13239478</th>\n",
       "      <th>0.07702148</th>\n",
       "      <th>-0.24665257</th>\n",
       "      <th>0.0120502245</th>\n",
       "      <th>0.4071103</th>\n",
       "      <th>-0.08842012</th>\n",
       "      <th>...</th>\n",
       "      <th>0.33765229999999996</th>\n",
       "      <th>0.068206005</th>\n",
       "      <th>-0.06629576</th>\n",
       "      <th>-0.1347857</th>\n",
       "      <th>-0.01596577</th>\n",
       "      <th>-0.16557023</th>\n",
       "      <th>-0.029201662000000003</th>\n",
       "      <th>0.056983455999999995</th>\n",
       "      <th>0.25043255</th>\n",
       "      <th>-0.21408829999999998</th>\n",
       "    </tr>\n",
       "  </thead>\n",
       "  <tbody>\n",
       "    <tr>\n",
       "      <th>0</th>\n",
       "      <td>1244776599058370562</td>\n",
       "      <td>0.462327</td>\n",
       "      <td>0.114677</td>\n",
       "      <td>0.119433</td>\n",
       "      <td>0.090756</td>\n",
       "      <td>0.204585</td>\n",
       "      <td>-0.195269</td>\n",
       "      <td>0.154502</td>\n",
       "      <td>0.631958</td>\n",
       "      <td>0.062113</td>\n",
       "      <td>...</td>\n",
       "      <td>-0.255628</td>\n",
       "      <td>-0.091462</td>\n",
       "      <td>0.097092</td>\n",
       "      <td>-0.135727</td>\n",
       "      <td>0.127662</td>\n",
       "      <td>0.186459</td>\n",
       "      <td>0.142710</td>\n",
       "      <td>-0.131188</td>\n",
       "      <td>0.245637</td>\n",
       "      <td>0.116715</td>\n",
       "    </tr>\n",
       "    <tr>\n",
       "      <th>1</th>\n",
       "      <td>1244776599574085632</td>\n",
       "      <td>0.035152</td>\n",
       "      <td>-0.028830</td>\n",
       "      <td>-0.133043</td>\n",
       "      <td>-0.010387</td>\n",
       "      <td>-0.018519</td>\n",
       "      <td>-0.303503</td>\n",
       "      <td>0.023665</td>\n",
       "      <td>0.558168</td>\n",
       "      <td>0.080153</td>\n",
       "      <td>...</td>\n",
       "      <td>0.024747</td>\n",
       "      <td>0.066145</td>\n",
       "      <td>-0.242748</td>\n",
       "      <td>-0.175117</td>\n",
       "      <td>-0.092793</td>\n",
       "      <td>-0.090895</td>\n",
       "      <td>0.275401</td>\n",
       "      <td>-0.181766</td>\n",
       "      <td>-0.041805</td>\n",
       "      <td>0.180552</td>\n",
       "    </tr>\n",
       "    <tr>\n",
       "      <th>2</th>\n",
       "      <td>1244776603974012929</td>\n",
       "      <td>0.102819</td>\n",
       "      <td>0.295894</td>\n",
       "      <td>0.433053</td>\n",
       "      <td>0.064111</td>\n",
       "      <td>-0.141456</td>\n",
       "      <td>0.156949</td>\n",
       "      <td>0.292134</td>\n",
       "      <td>0.342282</td>\n",
       "      <td>0.147171</td>\n",
       "      <td>...</td>\n",
       "      <td>-0.008658</td>\n",
       "      <td>-0.111251</td>\n",
       "      <td>0.046656</td>\n",
       "      <td>-0.186562</td>\n",
       "      <td>-0.155140</td>\n",
       "      <td>-0.184540</td>\n",
       "      <td>0.223476</td>\n",
       "      <td>-0.085286</td>\n",
       "      <td>0.082277</td>\n",
       "      <td>0.179396</td>\n",
       "    </tr>\n",
       "    <tr>\n",
       "      <th>3</th>\n",
       "      <td>1244776612383674369</td>\n",
       "      <td>0.050693</td>\n",
       "      <td>-0.009848</td>\n",
       "      <td>0.161498</td>\n",
       "      <td>0.114732</td>\n",
       "      <td>0.149062</td>\n",
       "      <td>-0.283866</td>\n",
       "      <td>-0.041372</td>\n",
       "      <td>0.317175</td>\n",
       "      <td>-0.157875</td>\n",
       "      <td>...</td>\n",
       "      <td>0.054488</td>\n",
       "      <td>0.023420</td>\n",
       "      <td>-0.128858</td>\n",
       "      <td>-0.177928</td>\n",
       "      <td>0.001263</td>\n",
       "      <td>0.034888</td>\n",
       "      <td>-0.207965</td>\n",
       "      <td>-0.065526</td>\n",
       "      <td>0.155339</td>\n",
       "      <td>-0.027436</td>\n",
       "    </tr>\n",
       "    <tr>\n",
       "      <th>4</th>\n",
       "      <td>1244776889455001600</td>\n",
       "      <td>0.180217</td>\n",
       "      <td>0.045157</td>\n",
       "      <td>-0.021720</td>\n",
       "      <td>-0.003025</td>\n",
       "      <td>0.019789</td>\n",
       "      <td>0.021494</td>\n",
       "      <td>0.064023</td>\n",
       "      <td>0.352978</td>\n",
       "      <td>-0.246537</td>\n",
       "      <td>...</td>\n",
       "      <td>0.057706</td>\n",
       "      <td>-0.112472</td>\n",
       "      <td>-0.078756</td>\n",
       "      <td>-0.164524</td>\n",
       "      <td>0.014641</td>\n",
       "      <td>-0.000774</td>\n",
       "      <td>0.138600</td>\n",
       "      <td>-0.186373</td>\n",
       "      <td>-0.120466</td>\n",
       "      <td>-0.143881</td>\n",
       "    </tr>\n",
       "  </tbody>\n",
       "</table>\n",
       "<p>5 rows × 769 columns</p>\n",
       "</div>"
      ],
      "text/plain": [
       "   1244776561489911812  0.4492857  -0.08069251  0.4238264  0.13239478  \\\n",
       "0  1244776599058370562   0.462327     0.114677   0.119433    0.090756   \n",
       "1  1244776599574085632   0.035152    -0.028830  -0.133043   -0.010387   \n",
       "2  1244776603974012929   0.102819     0.295894   0.433053    0.064111   \n",
       "3  1244776612383674369   0.050693    -0.009848   0.161498    0.114732   \n",
       "4  1244776889455001600   0.180217     0.045157  -0.021720   -0.003025   \n",
       "\n",
       "   0.07702148  -0.24665257  0.0120502245  0.4071103  -0.08842012  ...  \\\n",
       "0    0.204585    -0.195269      0.154502   0.631958     0.062113  ...   \n",
       "1   -0.018519    -0.303503      0.023665   0.558168     0.080153  ...   \n",
       "2   -0.141456     0.156949      0.292134   0.342282     0.147171  ...   \n",
       "3    0.149062    -0.283866     -0.041372   0.317175    -0.157875  ...   \n",
       "4    0.019789     0.021494      0.064023   0.352978    -0.246537  ...   \n",
       "\n",
       "   0.33765229999999996  0.068206005  -0.06629576  -0.1347857  -0.01596577  \\\n",
       "0            -0.255628    -0.091462     0.097092   -0.135727     0.127662   \n",
       "1             0.024747     0.066145    -0.242748   -0.175117    -0.092793   \n",
       "2            -0.008658    -0.111251     0.046656   -0.186562    -0.155140   \n",
       "3             0.054488     0.023420    -0.128858   -0.177928     0.001263   \n",
       "4             0.057706    -0.112472    -0.078756   -0.164524     0.014641   \n",
       "\n",
       "   -0.16557023  -0.029201662000000003  0.056983455999999995  0.25043255  \\\n",
       "0     0.186459               0.142710             -0.131188    0.245637   \n",
       "1    -0.090895               0.275401             -0.181766   -0.041805   \n",
       "2    -0.184540               0.223476             -0.085286    0.082277   \n",
       "3     0.034888              -0.207965             -0.065526    0.155339   \n",
       "4    -0.000774               0.138600             -0.186373   -0.120466   \n",
       "\n",
       "   -0.21408829999999998  \n",
       "0              0.116715  \n",
       "1              0.180552  \n",
       "2              0.179396  \n",
       "3             -0.027436  \n",
       "4             -0.143881  \n",
       "\n",
       "[5 rows x 769 columns]"
      ]
     },
     "execution_count": 69,
     "metadata": {},
     "output_type": "execute_result"
    }
   ],
   "source": [
    "embedding.head()"
   ]
  }
 ],
 "metadata": {
  "kernelspec": {
   "display_name": "Python 3",
   "language": "python",
   "name": "python3"
  },
  "language_info": {
   "codemirror_mode": {
    "name": "ipython",
    "version": 3
   },
   "file_extension": ".py",
   "mimetype": "text/x-python",
   "name": "python",
   "nbconvert_exporter": "python",
   "pygments_lexer": "ipython3",
   "version": "3.8.8"
  }
 },
 "nbformat": 4,
 "nbformat_minor": 5
}
